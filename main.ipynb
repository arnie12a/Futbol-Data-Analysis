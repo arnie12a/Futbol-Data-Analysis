{
 "cells": [
  {
   "cell_type": "markdown",
   "metadata": {},
   "source": [
    "## Libraries"
   ]
  },
  {
   "cell_type": "code",
   "execution_count": 3,
   "metadata": {},
   "outputs": [],
   "source": [
    "import pandas as pd\n",
    "import os"
   ]
  },
  {
   "cell_type": "markdown",
   "metadata": {},
   "source": [
    "# Scraping the data"
   ]
  },
  {
   "cell_type": "code",
   "execution_count": 4,
   "metadata": {},
   "outputs": [],
   "source": [
    "# Add Data into app\n",
    "premier_league_url = \"https://fbref.com/en/comps/20/2018-2019/2018-2019-Bundesliga-Stats\"\n",
    "\n",
    "# Only want to keep the first dataframe and the columns indicated below\n",
    "prem_league_df = pd.read_html(premier_league_url)[0]\n",
    "prem_columns = [\"Rk\", \"Squad\", \"MP\", \"W\", \"L\", \"GF\", \"GA\", \"GD\", \"Pts\", \"Top Team Scorer\", \"Notes\"]\n",
    "prem_df = prem_league_df[prem_columns]\n",
    "prem_df.to_csv('./data/Germany/Germany2018-2019.csv', index=False)"
   ]
  },
  {
   "cell_type": "code",
   "execution_count": 60,
   "metadata": {},
   "outputs": [],
   "source": [
    "def getData(year):\n",
    "\n",
    "    #url = \"https://fbref.com/en/comps/11/2021-2022/2021-2022-Serie-A-Stats\"\n",
    "    url = \"https://fbref.com/en/comps/20/\"+ str(year) + \"-\" + str(year+1) + \"/\" + str(year) + \"-\" + str(year+1) + \"-Serie-A-Stats\"\n",
    "\n",
    "    # Only want to keep the first dataframe and the columns indicated below\n",
    "    league_df = pd.read_html(url)[0]\n",
    "    cols = [\"Rk\", \"Squad\", \"MP\", \"W\", \"L\", \"GF\", \"GA\", \"GD\", \"Pts\", \"Top Team Scorer\", \"Notes\"]\n",
    "    df = league_df[cols]\n",
    "    csv = \"./data/Italy\" + str(year) + \"-\" + str(year +1) + \".csv\"\n",
    "    df.to_csv(csv, index=False)"
   ]
  },
  {
   "cell_type": "code",
   "execution_count": 61,
   "metadata": {},
   "outputs": [],
   "source": [
    "for val in list(range(2006, 2021)):\n",
    "    getData(val)"
   ]
  },
  {
   "cell_type": "markdown",
   "metadata": {},
   "source": [
    "# Analyzing queried Champions League data"
   ]
  },
  {
   "cell_type": "code",
   "execution_count": 2,
   "metadata": {},
   "outputs": [
    {
     "data": {
      "text/html": [
       "<div>\n",
       "<style scoped>\n",
       "    .dataframe tbody tr th:only-of-type {\n",
       "        vertical-align: middle;\n",
       "    }\n",
       "\n",
       "    .dataframe tbody tr th {\n",
       "        vertical-align: top;\n",
       "    }\n",
       "\n",
       "    .dataframe thead th {\n",
       "        text-align: right;\n",
       "    }\n",
       "</style>\n",
       "<table border=\"1\" class=\"dataframe\">\n",
       "  <thead>\n",
       "    <tr style=\"text-align: right;\">\n",
       "      <th></th>\n",
       "      <th>Season</th>\n",
       "      <th>Champion</th>\n",
       "      <th>Runner-Up</th>\n",
       "      <th>Top Scorer</th>\n",
       "    </tr>\n",
       "  </thead>\n",
       "  <tbody>\n",
       "    <tr>\n",
       "      <th>1</th>\n",
       "      <td>2023-2024</td>\n",
       "      <td>Real Madrid</td>\n",
       "      <td>Dortmund</td>\n",
       "      <td>Harry Kane, Kylian Mbappé - 8</td>\n",
       "    </tr>\n",
       "    <tr>\n",
       "      <th>2</th>\n",
       "      <td>2022-2023</td>\n",
       "      <td>Manchester City</td>\n",
       "      <td>Internazionale</td>\n",
       "      <td>Erling Haaland - 12</td>\n",
       "    </tr>\n",
       "    <tr>\n",
       "      <th>3</th>\n",
       "      <td>2021-2022</td>\n",
       "      <td>Real Madrid</td>\n",
       "      <td>Liverpool</td>\n",
       "      <td>Karim Benzema - 15</td>\n",
       "    </tr>\n",
       "    <tr>\n",
       "      <th>4</th>\n",
       "      <td>2020-2021</td>\n",
       "      <td>Chelsea</td>\n",
       "      <td>Manchester City</td>\n",
       "      <td>Erling Haaland - 10</td>\n",
       "    </tr>\n",
       "    <tr>\n",
       "      <th>5</th>\n",
       "      <td>2019-2020</td>\n",
       "      <td>Bayern Munich</td>\n",
       "      <td>Paris Saint-Germain</td>\n",
       "      <td>Robert Lewandowski - 15</td>\n",
       "    </tr>\n",
       "  </tbody>\n",
       "</table>\n",
       "</div>"
      ],
      "text/plain": [
       "      Season         Champion            Runner-Up  \\\n",
       "1  2023-2024      Real Madrid             Dortmund   \n",
       "2  2022-2023  Manchester City       Internazionale   \n",
       "3  2021-2022      Real Madrid            Liverpool   \n",
       "4  2020-2021          Chelsea      Manchester City   \n",
       "5  2019-2020    Bayern Munich  Paris Saint-Germain   \n",
       "\n",
       "                      Top Scorer  \n",
       "1  Harry Kane, Kylian Mbappé - 8  \n",
       "2            Erling Haaland - 12  \n",
       "3             Karim Benzema - 15  \n",
       "4            Erling Haaland - 10  \n",
       "5        Robert Lewandowski - 15  "
      ]
     },
     "execution_count": 2,
     "metadata": {},
     "output_type": "execute_result"
    }
   ],
   "source": [
    "df = pd.read_csv('./data/ChampionsLeagueData.csv').dropna()[['Season', 'Champion', 'Runner-Up', 'Top Scorer']]\n",
    "df.head()"
   ]
  },
  {
   "cell_type": "code",
   "execution_count": 7,
   "metadata": {},
   "outputs": [],
   "source": [
    "# Add champions league data to the analysis\n",
    "champions_league_url = \"https://fbref.com/en/comps/8/history/Champions-League-Seasons\"\n",
    "\n",
    "# Only want to keep the first dataframe and the columns indicated below\n",
    "champions_league_df = pd.read_html(champions_league_url)[0]\n",
    "champions_columns = [\"Season\", \"Champion\", \"Runner-Up\", \"Top Scorer\"]\n",
    "champions_df = champions_league_df[champions_columns]\n",
    "champions_df.to_csv('./data/ChampionsLeagueData.csv')"
   ]
  },
  {
   "cell_type": "code",
   "execution_count": 8,
   "metadata": {},
   "outputs": [
    {
     "data": {
      "text/html": [
       "<div>\n",
       "<style scoped>\n",
       "    .dataframe tbody tr th:only-of-type {\n",
       "        vertical-align: middle;\n",
       "    }\n",
       "\n",
       "    .dataframe tbody tr th {\n",
       "        vertical-align: top;\n",
       "    }\n",
       "\n",
       "    .dataframe thead th {\n",
       "        text-align: right;\n",
       "    }\n",
       "</style>\n",
       "<table border=\"1\" class=\"dataframe\">\n",
       "  <thead>\n",
       "    <tr style=\"text-align: right;\">\n",
       "      <th></th>\n",
       "      <th>Season</th>\n",
       "      <th>Champion</th>\n",
       "      <th>Runner-Up</th>\n",
       "      <th>Top Scorer</th>\n",
       "    </tr>\n",
       "  </thead>\n",
       "  <tbody>\n",
       "    <tr>\n",
       "      <th>0</th>\n",
       "      <td>2024-2025</td>\n",
       "      <td>NaN</td>\n",
       "      <td>NaN</td>\n",
       "      <td>NaN</td>\n",
       "    </tr>\n",
       "    <tr>\n",
       "      <th>1</th>\n",
       "      <td>2023-2024</td>\n",
       "      <td>Real Madrid</td>\n",
       "      <td>Dortmund</td>\n",
       "      <td>Harry Kane, Kylian Mbappé - 8</td>\n",
       "    </tr>\n",
       "    <tr>\n",
       "      <th>2</th>\n",
       "      <td>2022-2023</td>\n",
       "      <td>Manchester City</td>\n",
       "      <td>Internazionale</td>\n",
       "      <td>Erling Haaland - 12</td>\n",
       "    </tr>\n",
       "    <tr>\n",
       "      <th>3</th>\n",
       "      <td>2021-2022</td>\n",
       "      <td>Real Madrid</td>\n",
       "      <td>Liverpool</td>\n",
       "      <td>Karim Benzema - 15</td>\n",
       "    </tr>\n",
       "    <tr>\n",
       "      <th>4</th>\n",
       "      <td>2020-2021</td>\n",
       "      <td>Chelsea</td>\n",
       "      <td>Manchester City</td>\n",
       "      <td>Erling Haaland - 10</td>\n",
       "    </tr>\n",
       "  </tbody>\n",
       "</table>\n",
       "</div>"
      ],
      "text/plain": [
       "      Season         Champion        Runner-Up                     Top Scorer\n",
       "0  2024-2025              NaN              NaN                            NaN\n",
       "1  2023-2024      Real Madrid         Dortmund  Harry Kane, Kylian Mbappé - 8\n",
       "2  2022-2023  Manchester City   Internazionale            Erling Haaland - 12\n",
       "3  2021-2022      Real Madrid        Liverpool             Karim Benzema - 15\n",
       "4  2020-2021          Chelsea  Manchester City            Erling Haaland - 10"
      ]
     },
     "execution_count": 8,
     "metadata": {},
     "output_type": "execute_result"
    }
   ],
   "source": [
    "df = pd.read_csv('./data/ChampionsLeagueData.csv')[['Season', 'Champion', 'Runner-Up', 'Top Scorer']]\n",
    "df.head()"
   ]
  },
  {
   "cell_type": "code",
   "execution_count": 9,
   "metadata": {},
   "outputs": [],
   "source": [
    "d = {}\n",
    "for team in df['Champion'].dropna().to_list():\n",
    "    if team in d:\n",
    "        d[team] += 1\n",
    "    else:\n",
    "        d[team] = 1"
   ]
  },
  {
   "cell_type": "code",
   "execution_count": 13,
   "metadata": {},
   "outputs": [
    {
     "name": "stderr",
     "output_type": "stream",
     "text": [
      "C:\\Users\\arnav\\AppData\\Local\\Temp\\ipykernel_39448\\2236145854.py:13: FutureWarning: \n",
      "\n",
      "Passing `palette` without assigning `hue` is deprecated and will be removed in v0.14.0. Assign the `y` variable to `hue` and set `legend=False` for the same effect.\n",
      "\n",
      "  sns.barplot(x='Wins', y='Team', data=data, palette='viridis')\n"
     ]
    },
    {
     "data": {
      "image/png": "[encoded data removed]",
      "text/plain": [
       "<Figure size 1400x800 with 1 Axes>"
      ]
     },
     "metadata": {},
     "output_type": "display_data"
    }
   ],
   "source": [
    "import seaborn as sns\n",
    "import matplotlib.pyplot as plt\n",
    "import pandas as pd\n",
    "\n",
    "# Convert the dictionary to a DataFrame\n",
    "data = pd.DataFrame(list(d.items()), columns=['Team', 'Wins'])\n",
    "\n",
    "# Sort the DataFrame by the number of wins\n",
    "data = data.sort_values(by='Wins', ascending=False)\n",
    "\n",
    "# Create the Seaborn bar plot\n",
    "plt.figure(figsize=(14, 8))\n",
    "sns.barplot(x='Wins', y='Team', data=data, palette='viridis')\n",
    "\n",
    "# Add title and labels\n",
    "plt.title('Champions League Wins by Team', fontsize=16)\n",
    "plt.xlabel('Number of Wins', fontsize=14)\n",
    "plt.ylabel('Team', fontsize=14)\n",
    "\n",
    "# Show the plot\n",
    "plt.show()\n"
   ]
  },
  {
   "cell_type": "markdown",
   "metadata": {},
   "source": [
    "## Analyzing the league data"
   ]
  },
  {
   "cell_type": "code",
   "execution_count": 4,
   "metadata": {},
   "outputs": [
    {
     "name": "stdout",
     "output_type": "stream",
     "text": [
      "Manchester Utd\n",
      "89\n"
     ]
    }
   ],
   "source": [
    "def analyzeLeague(leagueCountry):\n",
    "    dfs = []\n",
    "    filenames = os.listdir('data' + '/' + leagueCountry)\n",
    "    for file in filenames:\n",
    "        df = pd.read_csv('data/' + leagueCountry + \"/\" + file)\n",
    "        dfs.append(df)\n",
    "    return dfs\n",
    "leagueDFs = analyzeLeague(\"England\")\n",
    "print(leagueDFs[0].iloc[0]['Squad'])\n",
    "print(leagueDFs[0].iloc[0]['Pts'])"
   ]
  },
  {
   "cell_type": "code",
   "execution_count": 28,
   "metadata": {},
   "outputs": [
    {
     "data": {
      "text/plain": [
       "[{'Team': 'Manchester City', 'Points': 100, 'Year': 2017},\n",
       " {'Team': 'Liverpool', 'Points': 99, 'Year': 2019},\n",
       " {'Team': 'Manchester City', 'Points': 98, 'Year': 2018},\n",
       " {'Team': 'Chelsea', 'Points': 93, 'Year': 2016},\n",
       " {'Team': 'Manchester City', 'Points': 93, 'Year': 2021},\n",
       " {'Team': 'Manchester City', 'Points': 91, 'Year': 2023},\n",
       " {'Team': 'Manchester Utd', 'Points': 90, 'Year': 2008},\n",
       " {'Team': 'Manchester Utd', 'Points': 89, 'Year': 2006},\n",
       " {'Team': 'Manchester City', 'Points': 89, 'Year': 2011},\n",
       " {'Team': 'Manchester Utd', 'Points': 89, 'Year': 2012}]"
      ]
     },
     "execution_count": 28,
     "metadata": {},
     "output_type": "execute_result"
    }
   ],
   "source": [
    "def getTop5TeamsByPoint(dfs):\n",
    "    topTeams = []\n",
    "    years = list(range(2006,2024))\n",
    "    for i in range(len(dfs)):\n",
    "\n",
    "        temp = {\n",
    "            'Team': leagueDFs[i].iloc[0]['Squad'],\n",
    "            'Points': leagueDFs[i].iloc[0]['Pts'],\n",
    "            'Year': years[i]\n",
    "        }\n",
    "        topTeams.append(temp)\n",
    "    \n",
    "    top10Teams = sorted(topTeams, key=lambda d: d['Points'], reverse=True)[:10]\n",
    "\n",
    "    return top10Teams\n",
    "\n",
    "getTop5TeamsByPoint(leagueDFs)\n"
   ]
  },
  {
   "cell_type": "code",
   "execution_count": 30,
   "metadata": {},
   "outputs": [
    {
     "data": {
      "text/plain": [
       "[{'Name': 'Erling Haaland', 'Goals': 36, 'Year': 2022},\n",
       " {'Name': 'Mohamed Salah', 'Goals': 32, 'Year': 2017},\n",
       " {'Name': 'Cristiano Ronaldo', 'Goals': 31, 'Year': 2007},\n",
       " {'Name': 'Luis Suárez', 'Goals': 31, 'Year': 2013},\n",
       " {'Name': 'Robin van Persie', 'Goals': 30, 'Year': 2011},\n",
       " {'Name': 'Didier Drogba', 'Goals': 29, 'Year': 2009},\n",
       " {'Name': 'Harry Kane', 'Goals': 29, 'Year': 2016},\n",
       " {'Name': 'Erling Haaland', 'Goals': 27, 'Year': 2023},\n",
       " {'Name': 'Robin van Persie', 'Goals': 26, 'Year': 2012},\n",
       " {'Name': 'Sergio Agüero', 'Goals': 26, 'Year': 2014}]"
      ]
     },
     "execution_count": 30,
     "metadata": {},
     "output_type": "execute_result"
    }
   ],
   "source": [
    "def goldenBoot(dfs):\n",
    "    topData = []\n",
    "    years = list(range(2006,2024))\n",
    "\n",
    "    for i in range(len(dfs)):\n",
    "        topScorer = dfs[i]['Top Team Scorer'].to_list()\n",
    "        maxVal = 0\n",
    "        playerName = 'name'\n",
    "        for scorer in topScorer:\n",
    "            temp = scorer.split(' - ')\n",
    "            if int(temp[1]) > maxVal:\n",
    "                maxVal = int(temp[1])\n",
    "                playerName = temp[0]\n",
    "        topData.append(\n",
    "            {\n",
    "                'Name': playerName,\n",
    "                'Goals': maxVal,\n",
    "                'Year': years[i]\n",
    "            }\n",
    "        )\n",
    "\n",
    "        top10GoalScorers = sorted(topData, key=lambda d: d['Goals'], reverse=True)[:10]\n",
    "\n",
    "        \n",
    "    return top10GoalScorers\n",
    "goldenBoot(leagueDFs)\n"
   ]
  },
  {
   "cell_type": "code",
   "execution_count": null,
   "metadata": {},
   "outputs": [],
   "source": [
    "#for scorer in df['Top Scorer'].dropna().to_list():\n",
    "#    data = scorer.split(' - ')"
   ]
  },
  {
   "cell_type": "code",
   "execution_count": null,
   "metadata": {},
   "outputs": [],
   "source": []
  }
 ],
 "metadata": {
  "kernelspec": {
   "display_name": "Python 3",
   "language": "python",
   "name": "python3"
  },
  "language_info": {
   "codemirror_mode": {
    "name": "ipython",
    "version": 3
   },
   "file_extension": ".py",
   "mimetype": "text/x-python",
   "name": "python",
   "nbconvert_exporter": "python",
   "pygments_lexer": "ipython3",
   "version": "3.12.4"
  }
 },
 "nbformat": 4,
 "nbformat_minor": 2
}
