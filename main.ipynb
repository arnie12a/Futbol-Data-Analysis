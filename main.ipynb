{
 "cells": [
  {
   "cell_type": "code",
   "execution_count": 2,
   "metadata": {},
   "outputs": [],
   "source": [
    "import pandas as pd"
   ]
  },
  {
   "cell_type": "code",
   "execution_count": 14,
   "metadata": {},
   "outputs": [],
   "source": [
    "# Add Data into app\n",
    "premier_league_url = \"https://fbref.com/en/comps/13/2022-2023/2022-2023-Ligue-1-Stats\"\n",
    "\n",
    "# Only want to keep the first dataframe and the columns indicated below\n",
    "prem_league_df = pd.read_html(premier_league_url)[0]\n",
    "prem_columns = [\"Rk\", \"Squad\", \"MP\", \"W\", \"L\", \"GF\", \"GA\", \"GD\", \"Pts\", \"Top Team Scorer\", \"Notes\"]\n",
    "prem_df = prem_league_df[prem_columns]\n",
    "prem_df.to_csv('./data/France2022-2023.csv', index=False)"
   ]
  },
  {
   "cell_type": "code",
   "execution_count": 16,
   "metadata": {},
   "outputs": [
    {
     "data": {
      "text/html": [
       "<div>\n",
       "<style scoped>\n",
       "    .dataframe tbody tr th:only-of-type {\n",
       "        vertical-align: middle;\n",
       "    }\n",
       "\n",
       "    .dataframe tbody tr th {\n",
       "        vertical-align: top;\n",
       "    }\n",
       "\n",
       "    .dataframe thead th {\n",
       "        text-align: right;\n",
       "    }\n",
       "</style>\n",
       "<table border=\"1\" class=\"dataframe\">\n",
       "  <thead>\n",
       "    <tr style=\"text-align: right;\">\n",
       "      <th></th>\n",
       "      <th>Season</th>\n",
       "      <th>Champion</th>\n",
       "      <th>Runner-Up</th>\n",
       "      <th>Top Scorer</th>\n",
       "    </tr>\n",
       "  </thead>\n",
       "  <tbody>\n",
       "    <tr>\n",
       "      <th>1</th>\n",
       "      <td>2023-2024</td>\n",
       "      <td>Real Madrid</td>\n",
       "      <td>Dortmund</td>\n",
       "      <td>Harry Kane, Kylian Mbappé - 8</td>\n",
       "    </tr>\n",
       "    <tr>\n",
       "      <th>2</th>\n",
       "      <td>2022-2023</td>\n",
       "      <td>Manchester City</td>\n",
       "      <td>Internazionale</td>\n",
       "      <td>Erling Haaland - 12</td>\n",
       "    </tr>\n",
       "    <tr>\n",
       "      <th>3</th>\n",
       "      <td>2021-2022</td>\n",
       "      <td>Real Madrid</td>\n",
       "      <td>Liverpool</td>\n",
       "      <td>Karim Benzema - 15</td>\n",
       "    </tr>\n",
       "    <tr>\n",
       "      <th>4</th>\n",
       "      <td>2020-2021</td>\n",
       "      <td>Chelsea</td>\n",
       "      <td>Manchester City</td>\n",
       "      <td>Erling Haaland - 10</td>\n",
       "    </tr>\n",
       "    <tr>\n",
       "      <th>5</th>\n",
       "      <td>2019-2020</td>\n",
       "      <td>Bayern Munich</td>\n",
       "      <td>Paris Saint-Germain</td>\n",
       "      <td>Robert Lewandowski - 15</td>\n",
       "    </tr>\n",
       "  </tbody>\n",
       "</table>\n",
       "</div>"
      ],
      "text/plain": [
       "      Season         Champion            Runner-Up  \\\n",
       "1  2023-2024      Real Madrid             Dortmund   \n",
       "2  2022-2023  Manchester City       Internazionale   \n",
       "3  2021-2022      Real Madrid            Liverpool   \n",
       "4  2020-2021          Chelsea      Manchester City   \n",
       "5  2019-2020    Bayern Munich  Paris Saint-Germain   \n",
       "\n",
       "                      Top Scorer  \n",
       "1  Harry Kane, Kylian Mbappé - 8  \n",
       "2            Erling Haaland - 12  \n",
       "3             Karim Benzema - 15  \n",
       "4            Erling Haaland - 10  \n",
       "5        Robert Lewandowski - 15  "
      ]
     },
     "execution_count": 16,
     "metadata": {},
     "output_type": "execute_result"
    }
   ],
   "source": [
    "df = pd.read_csv('./data/ChampionsLeagueData.csv').dropna()[['Season', 'Champion', 'Runner-Up', 'Top Scorer']]\n",
    "df.head()"
   ]
  },
  {
   "cell_type": "markdown",
   "metadata": {},
   "source": []
  },
  {
   "cell_type": "code",
   "execution_count": 11,
   "metadata": {},
   "outputs": [],
   "source": [
    "# Add champions league data to the analysis\n",
    "champions_league_url = \"https://fbref.com/en/comps/8/history/Champions-League-Seasons\"\n",
    "\n",
    "# Only want to keep the first dataframe and the columns indicated below\n",
    "champions_league_df = pd.read_html(champions_league_url)[0]\n",
    "champions_columns = [\"Season\", \"Champion\", \"Runner-Up\", \"Top Scorer\"]\n",
    "champions_df = champions_league_df[champions_columns]\n",
    "champions_df.to_csv('./data/ChampionsLeagueData.csv')"
   ]
  },
  {
   "cell_type": "code",
   "execution_count": null,
   "metadata": {},
   "outputs": [],
   "source": []
  }
 ],
 "metadata": {
  "kernelspec": {
   "display_name": "Python 3",
   "language": "python",
   "name": "python3"
  },
  "language_info": {
   "codemirror_mode": {
    "name": "ipython",
    "version": 3
   },
   "file_extension": ".py",
   "mimetype": "text/x-python",
   "name": "python",
   "nbconvert_exporter": "python",
   "pygments_lexer": "ipython3",
   "version": "3.12.4"
  }
 },
 "nbformat": 4,
 "nbformat_minor": 2
}
